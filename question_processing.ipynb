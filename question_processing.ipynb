{
  "nbformat": 4,
  "nbformat_minor": 0,
  "metadata": {
    "colab": {
      "provenance": [],
      "gpuType": "T4",
      "authorship_tag": "ABX9TyPEW+xSiBukLNBSRgkIL+8W",
      "include_colab_link": true
    },
    "kernelspec": {
      "name": "python3",
      "display_name": "Python 3"
    },
    "language_info": {
      "name": "python"
    },
    "accelerator": "GPU"
  },
  "cells": [
    {
      "cell_type": "markdown",
      "metadata": {
        "id": "view-in-github",
        "colab_type": "text"
      },
      "source": [
        "<a href=\"https://colab.research.google.com/github/mcdunleatate/the_quip_quest/blob/main/question_processing.ipynb\" target=\"_parent\"><img src=\"https://colab.research.google.com/assets/colab-badge.svg\" alt=\"Open In Colab\"/></a>"
      ]
    },
    {
      "cell_type": "code",
      "execution_count": 27,
      "metadata": {
        "id": "Hizez-dzu7Ag"
      },
      "outputs": [],
      "source": [
        "import numpy as np\n",
        "import wikipediaapi\n",
        "import spacy\n",
        "\n",
        "from tensorflow.keras.models import Sequential\n",
        "\n"
      ]
    },
    {
      "cell_type": "code",
      "source": [
        "nlp = spacy.load('en_core_web_sm')"
      ],
      "metadata": {
        "id": "MvwKYkjIibWC"
      },
      "execution_count": 2,
      "outputs": []
    },
    {
      "cell_type": "code",
      "source": [
        "question_1 = \"What is the color of a banana?\""
      ],
      "metadata": {
        "id": "gclA1IFXixKy"
      },
      "execution_count": 57,
      "outputs": []
    },
    {
      "cell_type": "code",
      "source": [
        "question_2 = \"How tall is the Empire State Building\""
      ],
      "metadata": {
        "id": "Iny_k33r0iKm"
      },
      "execution_count": 92,
      "outputs": []
    },
    {
      "cell_type": "code",
      "source": [],
      "metadata": {
        "id": "4PmHwvX8qGQs"
      },
      "execution_count": 93,
      "outputs": []
    },
    {
      "cell_type": "code",
      "source": [
        "def extract_topic(question):\n",
        "  # doc = nlp(question)\n",
        "\n",
        "  doc = nlp(question)\n",
        "\n",
        "  nouns = [chunk.text for chunk in doc.noun_chunks]\n",
        "\n",
        "  named_list = [ent.text for ent in doc.ents]\n",
        "\n",
        "  topic = nouns + named_list\n",
        "  return topic"
      ],
      "metadata": {
        "id": "NFmzVWoDikcY"
      },
      "execution_count": 99,
      "outputs": []
    },
    {
      "cell_type": "code",
      "source": [
        "topic = extract_topic(question_2)"
      ],
      "metadata": {
        "id": "xAhcF9OUip-x"
      },
      "execution_count": 102,
      "outputs": []
    },
    {
      "cell_type": "code",
      "source": [
        "topic"
      ],
      "metadata": {
        "colab": {
          "base_uri": "https://localhost:8080/"
        },
        "id": "2NXsO-TQ1bfU",
        "outputId": "762b662f-7760-4727-e0ee-47ee21ea9fcc"
      },
      "execution_count": 107,
      "outputs": [
        {
          "output_type": "execute_result",
          "data": {
            "text/plain": [
              "['tall Empire State Building', 'Empire State Building']"
            ]
          },
          "metadata": {},
          "execution_count": 107
        }
      ]
    },
    {
      "cell_type": "code",
      "source": [],
      "metadata": {
        "id": "6zMTB7_Z1kKX"
      },
      "execution_count": null,
      "outputs": []
    },
    {
      "cell_type": "code",
      "source": [
        "topic[-1].split(' ')[-1]"
      ],
      "metadata": {
        "colab": {
          "base_uri": "https://localhost:8080/",
          "height": 35
        },
        "id": "DIQkyiIqmSqG",
        "outputId": "495f0ea8-72f7-49b8-cfe6-98dbdf1e5d0b"
      },
      "execution_count": 103,
      "outputs": [
        {
          "output_type": "execute_result",
          "data": {
            "text/plain": [
              "'Building'"
            ],
            "application/vnd.google.colaboratory.intrinsic+json": {
              "type": "string"
            }
          },
          "metadata": {},
          "execution_count": 103
        }
      ]
    },
    {
      "cell_type": "code",
      "source": [
        "wiki = wikipediaapi.Wikipedia('Quip_Quest (mcdunlea@gmail.com)', 'en')\n",
        "if\n",
        "page_py = wiki.page(topic[-1].split(' ')[-1])"
      ],
      "metadata": {
        "id": "YtUr55Pti-Jh"
      },
      "execution_count": 104,
      "outputs": []
    },
    {
      "cell_type": "code",
      "source": [
        "\n",
        "print(\"Content (first 500 characters):\", page_py.text[:1000])"
      ],
      "metadata": {
        "colab": {
          "base_uri": "https://localhost:8080/"
        },
        "id": "RfR-MQxzlJf3",
        "outputId": "6b361e69-ce60-4515-cab4-b7fd3a3b0c46"
      },
      "execution_count": 105,
      "outputs": [
        {
          "output_type": "stream",
          "name": "stdout",
          "text": [
            "Content (first 500 characters): A building or edifice is an enclosed structure with a roof and walls, usually standing permanently in one place, such as a house or factory. Buildings come in a variety of sizes, shapes, and functions, and have been adapted throughout history for numerous factors, from building materials available, to weather conditions, land prices, ground conditions, specific uses, prestige, and aesthetic reasons. To better understand the concept, see Nonbuilding structure for contrast.\n",
            "Buildings serve several societal needs – occupancy, primarily as shelter from weather, security, living space, privacy, to store belongings, and to comfortably live and work. A building as a shelter represents a physical separation of the human habitat (a place of comfort and safety) from the outside (a place that may be harsh and harmful at times).\n",
            "Ever since the first cave paintings, buildings have been objects or canvasses of much artistic expression. In recent years, interest in sustainable planning and building p\n"
          ]
        }
      ]
    },
    {
      "cell_type": "code",
      "source": [
        "[sentence for sentence in page_py.text.split('.') if topic[-1].split(' ')[0] in sentence and topic[-1].split(' ')[1] in sentence]"
      ],
      "metadata": {
        "colab": {
          "base_uri": "https://localhost:8080/"
        },
        "id": "MSmMyrF-lR2p",
        "outputId": "88d0dbb8-a47d-4927-cc97-7d9b310767a7"
      },
      "execution_count": 106,
      "outputs": [
        {
          "output_type": "execute_result",
          "data": {
            "text/plain": [
              "[]"
            ]
          },
          "metadata": {},
          "execution_count": 106
        }
      ]
    },
    {
      "cell_type": "code",
      "source": [],
      "metadata": {
        "id": "5a6ymwBylfTq"
      },
      "execution_count": null,
      "outputs": []
    }
  ]
}