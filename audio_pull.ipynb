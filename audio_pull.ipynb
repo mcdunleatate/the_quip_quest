{
 "cells": [
  {
   "cell_type": "code",
   "execution_count": 1,
   "metadata": {},
   "outputs": [],
   "source": [
    "import pyaudio\n",
    "import wave\n",
    "import speech_recognition as sr"
   ]
  },
  {
   "cell_type": "code",
   "execution_count": 2,
   "metadata": {},
   "outputs": [],
   "source": [
    "def play_wav(file_path):\n",
    "    chunk = 1024\n",
    "\n",
    "    # Open the audio file\n",
    "    wf = wave.open(file_path, 'rb')\n",
    "\n",
    "    # Initialize PyAudio\n",
    "    p = pyaudio.PyAudio()\n",
    "\n",
    "    # Open PyAudio stream\n",
    "    stream = p.open(format=p.get_format_from_width(wf.getsampwidth()),\n",
    "                    channels=wf.getnchannels(),\n",
    "                    rate=wf.getframerate(),\n",
    "                    output=True)\n",
    "\n",
    "    # Read data\n",
    "    data = wf.readframes(chunk)\n",
    "\n",
    "    # Play the audio\n",
    "    while data:\n",
    "        stream.write(data)\n",
    "        data = wf.readframes(chunk)\n",
    "\n",
    "    # Close the stream and terminate PyAudio\n",
    "    stream.close()\n",
    "    p.terminate()"
   ]
  },
  {
   "cell_type": "code",
   "execution_count": 3,
   "metadata": {},
   "outputs": [],
   "source": [
    "def recognize_speech_from_wav(file_path):\n",
    "    # Initialize recognizer\n",
    "    recognizer = sr.Recognizer()\n",
    "\n",
    "    # Load the audio file\n",
    "    with sr.AudioFile(file_path) as source:\n",
    "        print(\"Loading audio file...\")\n",
    "\n",
    "        # Record the audio from the file\n",
    "        audio_data = recognizer.record(source)\n",
    "\n",
    "        print(\"Recognizing...\")\n",
    "\n",
    "        try:\n",
    "            # Use Google Web Speech API to recognize the audio\n",
    "            text = recognizer.recognize_google(audio_data)\n",
    "            print(\"Text:\", text)\n",
    "            return text\n",
    "        except sr.UnknownValueError:\n",
    "            print(\"Sorry, could not understand audio.\")\n",
    "        except sr.RequestError as e:\n",
    "            print(\"Error with the service; {0}\".format(e))"
   ]
  },
  {
   "cell_type": "code",
   "execution_count": 4,
   "metadata": {},
   "outputs": [
    {
     "name": "stdout",
     "output_type": "stream",
     "text": [
      "Recording . . . \n",
      "Recording Stopped.\n",
      "Audio saved to ./audiofiles/recorded_audio.wav\n"
     ]
    }
   ],
   "source": [
    "audio = pyaudio.PyAudio()\n",
    "\n",
    "stream = audio.open(format= pyaudio.paInt16,\n",
    "                    channels = 1,\n",
    "                    rate = 44100,\n",
    "                    input = True,\n",
    "                    frames_per_buffer = 1024)\n",
    "\n",
    "print(\"Recording . . . \")\n",
    "\n",
    "frames = []\n",
    "\n",
    "try:\n",
    "    while True:\n",
    "        data = stream.read(1024)\n",
    "        frames.append(data)\n",
    "except KeyboardInterrupt:\n",
    "    print(\"Recording Stopped.\")\n",
    "    \n",
    "stream.stop_stream()\n",
    "stream.close()\n",
    "audio.terminate()\n",
    "\n",
    "\n",
    "output_file = \"./audiofiles/recorded_audio.wav\"\n",
    "with wave.open(output_file, 'wb') as wf:\n",
    "    wf.setnchannels(1)\n",
    "    wf.setsampwidth(audio.get_sample_size(pyaudio.paInt16))\n",
    "    wf.setframerate(44100)\n",
    "    wf.writeframes(b''.join(frames))\n",
    "\n",
    "print(f\"Audio saved to {output_file}\")\n",
    "\n"
   ]
  },
  {
   "cell_type": "code",
   "execution_count": 5,
   "metadata": {},
   "outputs": [],
   "source": [
    "play_wav(output_file)"
   ]
  },
  {
   "cell_type": "code",
   "execution_count": 6,
   "metadata": {},
   "outputs": [
    {
     "name": "stdout",
     "output_type": "stream",
     "text": [
      "Loading audio file...\n",
      "Recognizing...\n",
      "Text: hello my name is Mark how are you today\n"
     ]
    },
    {
     "data": {
      "text/plain": [
       "'hello my name is Mark how are you today'"
      ]
     },
     "execution_count": 6,
     "metadata": {},
     "output_type": "execute_result"
    }
   ],
   "source": [
    "recognize_speech_from_wav(output_file)"
   ]
  },
  {
   "cell_type": "code",
   "execution_count": null,
   "metadata": {},
   "outputs": [],
   "source": []
  }
 ],
 "metadata": {
  "kernelspec": {
   "display_name": "Python 3",
   "language": "python",
   "name": "python3"
  },
  "language_info": {
   "codemirror_mode": {
    "name": "ipython",
    "version": 3
   },
   "file_extension": ".py",
   "mimetype": "text/x-python",
   "name": "python",
   "nbconvert_exporter": "python",
   "pygments_lexer": "ipython3",
   "version": "3.11.5"
  }
 },
 "nbformat": 4,
 "nbformat_minor": 2
}
